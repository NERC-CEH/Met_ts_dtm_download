{
 "cells": [
  {
   "cell_type": "markdown",
   "metadata": {},
   "source": [
    "# Extract Met-office climate model data to point - shapefile\n",
    "\n",
    "The following notebook demonstrates how I have extracted climate model data (e.g. rainfall etc.) from netcdf to shapefile points. The goal of this process is to obtain monthly figures for these variables for each plot, similarly to the other notebook in this repo, which extracts NDVI from Sentinel 2 for the same purpose. There are doubtless more efficient ways to do this for Met data, but the aim was to a similar method as for the EO-based data.   \n",
    "\n",
    "**Ensure you are running the correct kernel. Look at the top right  it should be [conda env:eot] as seen in the top right.** \n",
    "\n",
    "**If not, Kernel > Change kernel > eot from the menu.** \n",
    "\n",
    "The points in question here are Countryside survey data which may be accessed via the CEH environmental data centre (https://eip.ceh.ac.uk/).  \n",
    "\n",
    "Please obtain your own CSS points file and replace the shapefile string as appropriate."
   ]
  },
  {
   "cell_type": "code",
   "execution_count": null,
   "metadata": {},
   "outputs": [],
   "source": [
    "import os \n",
    "from glob2 import glob\n",
    "from src.downloader import dload, dloadbatch, setup_sesh\n",
    "from src.met_tseries import met_time_series\n",
    "from tqdm import tqdm"
   ]
  },
  {
   "cell_type": "markdown",
   "metadata": {},
   "source": [
    "## Download\n",
    "\n",
    "Firstly, we must obtain the relevant data, which is provided here to save the tedium of clicking through multiple pages to get it.\n",
    "\n",
    "First we setup our credentials to download the data by running the setup_sesh cmd\n",
    "\n",
    "**This will only work if you have registered with CEDA - ensure you have done so and replace the strings**"
   ]
  },
  {
   "cell_type": "code",
   "execution_count": null,
   "metadata": {},
   "outputs": [],
   "source": [
    "setup_sesh(\"mycedausrname\", \"mypasswrd\")"
   ]
  },
  {
   "cell_type": "markdown",
   "metadata": {},
   "source": [
    "Make a dir for it to go in."
   ]
  },
  {
   "cell_type": "code",
   "execution_count": null,
   "metadata": {},
   "outputs": [],
   "source": [
    "metdir = 'metdwn'\n",
    "if not os.path.isdir(metdir):\n",
    "    os.mkdir(metdir)"
   ]
  },
  {
   "cell_type": "markdown",
   "metadata": {},
   "source": [
    "A lazy way to obtain the URLs we need for each climate variable. For an explanation of what each one is see here:\n",
    "\n",
    "https://www.metoffice.gov.uk/research/climate/maps-and-data/data/haduk-grid/datasets\n",
    "\n",
    "We can resuse the climate var names later too..."
   ]
  },
  {
   "cell_type": "code",
   "execution_count": null,
   "metadata": {},
   "outputs": [],
   "source": [
    "# the rainfall one as a template\n",
    "rain_url = ('https://dap.ceda.ac.uk/badc/ukmo-hadobs/data/insitu/MOHC/'\n",
    " 'HadOBS/HadUK-Grid/v1.0.2.1/1km/rainfall/mon/v20200731/'\n",
    " 'rainfall_hadukgrid_uk_1km_mon_201601-201612.nc')\n",
    "# list of vars\n",
    "clim_vars = ['groundfrost', 'hurs', 'psl', 'pv', 'sfcWind', 'sun', 'tas']\n",
    "\n",
    "# final list of urls\n",
    "dwnlist = [rain_url.replace('rainfall', c) for c in clim_vars]\n",
    "\n",
    "# add the rainfall\n",
    "dwnlist.append(rain_url)\n",
    "clim_vars.append('rainfall')"
   ]
  },
  {
   "cell_type": "code",
   "execution_count": null,
   "metadata": {},
   "outputs": [],
   "source": [
    "# sanity.....\n",
    "print(dwnlist[0], clim_vars[0], '\\n', dwnlist[7], clim_vars[7])"
   ]
  },
  {
   "cell_type": "markdown",
   "metadata": {},
   "source": [
    "Now we can download the data - this also returns a list of the file paths to be used later. This may take a wee while......"
   ]
  },
  {
   "cell_type": "code",
   "execution_count": null,
   "metadata": {},
   "outputs": [],
   "source": [
    "imlist = dloadbatch(dwnlist, metdir)"
   ]
  },
  {
   "cell_type": "markdown",
   "metadata": {},
   "source": [
    "## Data extraction\n",
    "\n",
    "Using the CSS file that you will have obtained in advance - loop through the netcdfs adding the climate data."
   ]
  },
  {
   "cell_type": "code",
   "execution_count": null,
   "metadata": {},
   "outputs": [],
   "source": [
    "inShp = \"mycss.shp\"\n",
    "\n",
    "for d,p in tqdm(zip(imlist, clim_vars)):\n",
    "    met_time_series(d, inShp, inShp, p) \n",
    "    "
   ]
  },
  {
   "cell_type": "markdown",
   "metadata": {},
   "source": [
    "### Read in the newly created file and extract the variables\n",
    "\n",
    "For reference, the variable names are cut down versions of the clim_vars list above (as shapefiles only accept strings of a certain length) which may be obtained by using a list comp. These can be used to extract a df of one variable on another.\n",
    "\n",
    "```python\n",
    "\n",
    "names[7] \n",
    "```\n",
    "....being rain"
   ]
  },
  {
   "cell_type": "code",
   "execution_count": null,
   "metadata": {},
   "outputs": [],
   "source": [
    "names = [c[0:4] for c in clim_vars]\n",
    "names"
   ]
  },
  {
   "cell_type": "code",
   "execution_count": null,
   "metadata": {},
   "outputs": [],
   "source": [
    "ndf = gpd.read_file(inShp)"
   ]
  },
  {
   "cell_type": "markdown",
   "metadata": {},
   "source": [
    "### Extract a particular group from the  shapefile\n",
    "\n",
    "```python\n",
    "tseries_group(ndf, name, other_inds=None)\n",
    "```\n",
    "Where:\n",
    "- ```name``` = srting - the attribute to extract ('rain' in the case below)\n",
    "- ```other_inds``` = list -  additional attributes to extract for later indexing (not used here)\n",
    "\n"
   ]
  },
  {
   "cell_type": "code",
   "execution_count": null,
   "metadata": {},
   "outputs": [],
   "source": [
    "rain = tseries_group(ndf, names[7], other_inds=None)"
   ]
  },
  {
   "cell_type": "markdown",
   "metadata": {},
   "source": [
    "Check the df"
   ]
  },
  {
   "cell_type": "code",
   "execution_count": null,
   "metadata": {},
   "outputs": [],
   "source": [
    "rain.head()"
   ]
  }
 ],
 "metadata": {
  "kernelspec": {
   "display_name": "Python [conda env:geolearn] *",
   "language": "python",
   "name": "conda-env-geolearn-py"
  },
  "language_info": {
   "codemirror_mode": {
    "name": "ipython",
    "version": 3
   },
   "file_extension": ".py",
   "mimetype": "text/x-python",
   "name": "python",
   "nbconvert_exporter": "python",
   "pygments_lexer": "ipython3",
   "version": "3.7.8"
  }
 },
 "nbformat": 4,
 "nbformat_minor": 4
}
